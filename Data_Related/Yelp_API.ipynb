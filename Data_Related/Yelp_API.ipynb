{
 "cells": [
  {
   "cell_type": "code",
   "execution_count": 1,
   "id": "6068a48f-156d-4edb-9186-0450ea7df9db",
   "metadata": {},
   "outputs": [],
   "source": [
    "import requests\n",
    "import pandas as pd"
   ]
  },
  {
   "cell_type": "code",
   "execution_count": 2,
   "id": "9bc337e8-0b76-4179-b444-2ecca1a927ef",
   "metadata": {},
   "outputs": [],
   "source": [
    "# API\n",
    "API_key = \"pMJi-nRyOdFYJ42BLbkqsB_nGaVC5f0OLj-YQULCZT6SlQZqpIQuwdzHQwh96_2JyD5PnsQRsP1o29WMgQjZoGPnKNjt3Wejba7JgZMR_A1boWq14m4iIz6winqdZ3Yx\"\n",
    "\n",
    "# Authorizing and formating\n",
    "headers = {\n",
    "    \"Authorization\": f\"Bearer {API_key}\",\n",
    "    \"Content-Type\": \"application/json\"\n",
    "}\n",
    "# URL\n",
    "url = \"https://api.yelp.com/v3/businesses/search\"\n",
    "# Filtering data\n",
    "params = {\n",
    "    \"categories\": \"Restaurants, Bars\",\n",
    "    \"location\": \"Seattle, WA\",\n",
    "    \"limit\": 50\n",
    "}"
   ]
  },
  {
   "cell_type": "code",
   "execution_count": 3,
   "id": "cc996a02-91af-4833-9278-706f98b68c2c",
   "metadata": {},
   "outputs": [],
   "source": [
    "all_businesses = pd.read_csv('/Users/huyguy/Documents/Documents - Huy’s MacBook Pro/UW/AAUW/business_search.csv')"
   ]
  },
  {
   "cell_type": "code",
   "execution_count": 3,
   "id": "e6029f47-60ab-431b-84fd-8dfc630cbb64",
   "metadata": {},
   "outputs": [],
   "source": [
    "columns = ['id', 'alias', 'name', 'image_url', 'is_closed', 'url', 'review_count',\n",
    "       'categories', 'rating', 'coordinates', 'transactions', 'price',\n",
    "       'location', 'phone', 'display_phone', 'distance', 'business_hours',\n",
    "       'attributes']\n",
    "all_businesses = pd.DataFrame(columns=columns)"
   ]
  },
  {
   "cell_type": "code",
   "execution_count": 4,
   "id": "7e2d35f1-9e59-4f73-912c-e42863e763c7",
   "metadata": {},
   "outputs": [],
   "source": [
    "columns = ['id', 'alias', 'name', 'image_url', 'is_closed', 'url', 'review_count',\n",
    "       'categories', 'rating', 'coordinates', 'transactions', 'price',\n",
    "       'location', 'phone', 'display_phone', 'distance', 'business_hours',\n",
    "       'attributes']\n",
    "all_businesses = pd.DataFrame(columns=columns)\n",
    "# Get access to Yelp\n",
    "def fetch_businesses(all_businesses, url, headers, params, target_count):\n",
    "    tracking_businesses = []\n",
    "    # offset = params['offset']\n",
    "\n",
    "    while len(tracking_businesses) < target_count:\n",
    "    \n",
    "        response = requests.get(url, headers=headers, params=params)\n",
    "    \n",
    "        if response.status_code == 200:\n",
    "            data = response.json()\n",
    "\n",
    "            for business in data.get('businesses', []):\n",
    "                if business['id'] not in all_businesses['id'].tolist():\n",
    "                    tracking_businesses.append(business)\n",
    "    \n",
    "                    # Stop immediately if target is reached\n",
    "                    if len(tracking_businesses) >= target_count:\n",
    "                        break\n",
    "    \n",
    "            # Increment offset to fetch the next batch\n",
    "            # offset += params['limit']\n",
    "            # print(offset)\n",
    "    \n",
    "            # Break if no more businesses returned (end of data)\n",
    "            if len(data.get('businesses', [])) < params['limit']:\n",
    "                break\n",
    "        else:\n",
    "            print(f\"Error: {response.status_code}, {response.text}\")\n",
    "            break\n",
    "        tracking_businesses_df = pd.DataFrame(tracking_businesses)\n",
    "        all_businesses = pd.concat([all_businesses, tracking_businesses_df], ignore_index = True)\n",
    "    return all_businesses"
   ]
  },
  {
   "cell_type": "code",
   "execution_count": 5,
   "id": "ce1ffcd8-5500-4f03-ad87-c5112b2d30d4",
   "metadata": {
    "scrolled": true
   },
   "outputs": [
    {
     "name": "stdout",
     "output_type": "stream",
     "text": [
      "Error: 429, {\"error\": {\"code\": \"ACCESS_LIMIT_REACHED\", \"description\": \"You've reached the access limit for this client. See instructions for requesting a higher access limit at https://docs.developer.yelp.com/docs/fusion-rate-limiting\"}}\n"
     ]
    }
   ],
   "source": [
    "all_businesses = fetch_businesses(all_businesses, url, headers, params, 200)"
   ]
  },
  {
   "cell_type": "code",
   "execution_count": 9,
   "id": "952f55e2-bb8f-4bb1-ae73-88ba194c1923",
   "metadata": {},
   "outputs": [
    {
     "name": "stdout",
     "output_type": "stream",
     "text": [
      "Error: 429, {\"error\": {\"code\": \"ACCESS_LIMIT_REACHED\", \"description\": \"You've reached the access limit for this client. See instructions for requesting a higher access limit at https://docs.developer.yelp.com/docs/fusion-rate-limiting\"}}\n"
     ]
    }
   ],
   "source": [
    "#for i in range(0, 50):\n",
    "all_businesses = fetch_businesses(all_businesses, url, headers, params, 1)\n",
    "# if i % 10 == 0:\n",
    "#     print('Round:',i)"
   ]
  },
  {
   "cell_type": "code",
   "execution_count": 6,
   "id": "21c4bf01-41ce-4299-906b-e637e9014bbf",
   "metadata": {},
   "outputs": [],
   "source": [
    "# all_businesses.to_csv('business_search.csv', index=False)"
   ]
  },
  {
   "cell_type": "code",
   "execution_count": 8,
   "id": "91de159e-e98b-4be7-a753-9d07fd42467a",
   "metadata": {},
   "outputs": [
    {
     "data": {
      "text/plain": [
       "51"
      ]
     },
     "execution_count": 8,
     "metadata": {},
     "output_type": "execute_result"
    }
   ],
   "source": [
    "all_businesses.id.nunique()"
   ]
  },
  {
   "cell_type": "code",
   "execution_count": null,
   "id": "ef70afb0-b176-4f47-8745-ddb8132e294a",
   "metadata": {},
   "outputs": [],
   "source": []
  }
 ],
 "metadata": {
  "kernelspec": {
   "display_name": "Python (datascience)",
   "language": "python",
   "name": "datascience"
  },
  "language_info": {
   "codemirror_mode": {
    "name": "ipython",
    "version": 3
   },
   "file_extension": ".py",
   "mimetype": "text/x-python",
   "name": "python",
   "nbconvert_exporter": "python",
   "pygments_lexer": "ipython3",
   "version": "3.9.15"
  }
 },
 "nbformat": 4,
 "nbformat_minor": 5
}
