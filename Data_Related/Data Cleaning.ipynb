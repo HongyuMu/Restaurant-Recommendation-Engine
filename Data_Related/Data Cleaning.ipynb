{
 "cells": [
  {
   "cell_type": "code",
   "execution_count": null,
   "id": "12315c21-6936-407b-b905-0af238ffb74e",
   "metadata": {},
   "outputs": [],
   "source": [
    "# Data cleaning"
   ]
  },
  {
   "cell_type": "code",
   "execution_count": null,
   "id": "1af0b39e-98d1-475a-86be-d7e570dfc41d",
   "metadata": {},
   "outputs": [],
   "source": [
    "# Average rating\n",
    "# Count of restaurant zipcode\n",
    "# Rating and review count correlation"
   ]
  },
  {
   "cell_type": "code",
   "execution_count": null,
   "id": "ac0d58d1-9f7d-41c1-9f99-7ddc788f24db",
   "metadata": {},
   "outputs": [],
   "source": []
  }
 ],
 "metadata": {
  "kernelspec": {
   "display_name": "Python (datascience)",
   "language": "python",
   "name": "datascience"
  },
  "language_info": {
   "codemirror_mode": {
    "name": "ipython",
    "version": 3
   },
   "file_extension": ".py",
   "mimetype": "text/x-python",
   "name": "python",
   "nbconvert_exporter": "python",
   "pygments_lexer": "ipython3",
   "version": "3.9.15"
  }
 },
 "nbformat": 4,
 "nbformat_minor": 5
}
